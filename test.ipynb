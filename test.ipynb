{
 "cells": [
  {
   "cell_type": "code",
   "execution_count": 5,
   "id": "49894210",
   "metadata": {},
   "outputs": [
    {
     "data": {
      "text/plain": [
       "{'Cache-Control': 'private', 'Content-Type': 'text/html; charset=utf-8', 'Server': 'Microsoft-IIS/7.5', 'Set-Cookie': 'ASP.NET_SessionId=czyhsp2zyaujf2554bzjqh45; path=/; HttpOnly', 'X-AspNet-Version': '2.0.50727', 'X-Powered-By': 'ASP.NET', 'Date': 'Mon, 04 Jul 2022 15:07:54 GMT', 'Content-Length': '15073'}"
      ]
     },
     "execution_count": 5,
     "metadata": {},
     "output_type": "execute_result"
    }
   ],
   "source": [
    "import requests\n",
    "from bs4 import BeautifulSoup\n",
    "\n",
    "#out = requests.get(\"http://echecs.asso.fr/FicheTournoi.aspx?Ref=55579\")\n",
    "#out = requests.get(\"http://echecs.asso.fr/Resultats.aspx?URL=Tournois/Id/55579/55579&Action=Ga\")\n",
    "out = requests.get(\"http://echecs.asso.fr/Resultats.aspx?URL=Tournois/Id/29018/29018&Action=Berger\")\n",
    "out.headers\n",
    "#print(out.content.decode())"
   ]
  },
  {
   "cell_type": "raw",
   "id": "765d7419",
   "metadata": {},
   "source": [
    "Ancienne structure :\n",
    "\n",
    "{'Thomas': \n",
    "            {\"Jean\" : \n",
    "                    [{\"nom du tournoi\":A, \n",
    "                      \"blanc\":Thomas, \n",
    "                      \"noir\":Jean, \n",
    "                      \"gagnant\": Thomas, \n",
    "                      \"perdant\" : Jean}];\n",
    "                \"CAMILLE\" :\n",
    "                    [{\"nom du tournoi\":A, \n",
    "                      \"blanc\":Thomas, \n",
    "                      \"noir\":Jean, \n",
    "                      \"gagnant\": Thomas, \n",
    "                      \"perdant\" : Jean}]\n",
    "                }\n",
    "              \n",
    "'Zoé\":\n",
    "           {\"Jean\" : \n",
    "                    [{\"nom du tournoi\":A, \n",
    "                      \"blanc\":Thomas, \n",
    "                      \"noir\":Jean, \n",
    "                      \"gagnant\": Thomas, \n",
    "                      \"perdant\" : Jean}];\n",
    "                \"CAMILLE\" :\n",
    "                    [{\"nom du tournoi\":A, \n",
    "                      \"blanc\":Thomas, \n",
    "                      \"noir\":Jean, \n",
    "                      \"gagnant\": Thomas, \n",
    "                      \"perdant\" : Jean}]\n",
    "                }\n",
    "              \n",
    "\n",
    "}"
   ]
  },
  {
   "cell_type": "raw",
   "id": "56283040",
   "metadata": {},
   "source": [
    "Nouvelle structure : \n",
    "\n",
    "{'Thomas': \n",
    "            {\"tournoi de l'as\" : \n",
    "                    {\"date\":15/09/2009, \n",
    "                      \"nombre de rondes\":3, \n",
    "                      \"cadence\":Jean, \n",
    "                      \"ELO\": 1200\n",
    "                      \"adversaires\":\n",
    "                              {\"adversaire 1\":\n",
    "                                      {\"ronde\":\n",
    "                                       \"nom\" :\n",
    "                                       \"prénom\" : \n",
    "                                       \"ELO\":\n",
    "                                       \"couleur du joueur\":\n",
    "                                       \"résultat\":};\n",
    "                               \"adversaire 2\":\n",
    "                                       {\"ronde\":\n",
    "                                       \"nom\" :\n",
    "                                       \"prénom\" : \n",
    "                                       \"ELO\":\n",
    "                                       \"couleur du joueur\":\n",
    "                                       \"résultat\":}\n",
    "                               };\n",
    "               \n",
    "                       };\n",
    "                \"tournoi de la reine\":\n",
    "                        {\"date\":15/09/2009, \n",
    "                          \"nombre de rondes\":3, \n",
    "                          \"cadence\":Jean, \n",
    "                          \"ELO\": 1200\n",
    "                          \"adversaires\":\n",
    "                                  {\"adversaire 1\":\n",
    "                                      {\"ronde\":\n",
    "                                       \"nom\" :\n",
    "                                       \"prénom\" : \n",
    "                                       \"ELO\":\n",
    "                                       \"couleur du joueur\":\n",
    "                                       \"résultat\":};\n",
    "                               \"adversaire 2\":\n",
    "                                       {\"ronde\":\n",
    "                                       \"nom\" :\n",
    "                                       \"prénom\" : \n",
    "                                       \"ELO\":\n",
    "                                       \"couleur du joueur\":\n",
    "                                       \"résultat\":}\n",
    "                               };\n",
    "               \n",
    "                       };\n",
    "}"
   ]
  },
  {
   "cell_type": "code",
   "execution_count": 6,
   "id": "da96eb69",
   "metadata": {},
   "outputs": [],
   "source": [
    "#savoir lire ce genre de grille américaine\n",
    "link = \"http://echecs.asso.fr/Resultats.aspx?URL=Tournois/Id/18358/18358&Action=Ga\"\n",
    "soup = BeautifulSoup(requests.get(link).text, 'html.parser')\n",
    "\n",
    "\n",
    "#print(soup)\n"
   ]
  },
  {
   "cell_type": "code",
   "execution_count": 7,
   "id": "e80ee52a",
   "metadata": {},
   "outputs": [],
   "source": [
    "#savoir lire ce genre de grille américaine\n",
    "link = \"http://echecs.asso.fr/Resultats.aspx?URL=Tournois/Id/30005/30005&Action=Ga\"\n",
    "soup = BeautifulSoup(requests.get(link).text, 'html.parser')\n",
    "\n",
    "\n",
    "#print(soup)"
   ]
  },
  {
   "cell_type": "code",
   "execution_count": 8,
   "id": "2a938b2d",
   "metadata": {},
   "outputs": [],
   "source": [
    "                      \n",
    "#players_ga(18911)   \n",
    "#players_ga(30005)\n",
    "#match_ga(55579)\n",
    "#players_ga(18911)\n",
    "#players_ga(18443)\n",
    "#match_ga(18372)\n",
    "#players_ga(18358)\n",
    "#players_ga(18494)\n",
    "#players_ga(18471)\n",
    "#players_ga(18432) \n",
    "#players_ga(18545)\n",
    "#players_ga(18574)\n",
    "#players_ga(18602)\n",
    "#players_ga(18634)##\n",
    "#players_ga(18705)\n",
    "#players_ga(19119)\n",
    "#players_ga(19156)\n",
    "#players_ga(19171)\n",
    "#players_ga(19248)\n",
    "#players_ga(19339)\n",
    "#players_ga(19471)\n",
    "#players_ga(19531)\n",
    "#players_ga(19597)\n",
    "#players_ga(19606)\n",
    "#players_ga(19676)\n",
    "#players_ga(19767)\n",
    "#players_ga(19771)\n",
    "#players_ga(19793)\n",
    "#players_ga(19800)\n",
    "#players_ga(19802)\n",
    "#players_ga(19904)"
   ]
  },
  {
   "cell_type": "code",
   "execution_count": 9,
   "id": "8b2b9ab3",
   "metadata": {},
   "outputs": [
    {
     "ename": "NameError",
     "evalue": "name 'con' is not defined",
     "output_type": "error",
     "traceback": [
      "\u001b[0;31m---------------------------------------------------------------------------\u001b[0m",
      "\u001b[0;31mNameError\u001b[0m                                 Traceback (most recent call last)",
      "\u001b[0;32m/var/folders/k3/m4kj0cc96tl3f7qn_8q_wvpc0000gn/T/ipykernel_24811/2629765683.py\u001b[0m in \u001b[0;36m<module>\u001b[0;34m\u001b[0m\n\u001b[1;32m      1\u001b[0m \u001b[0;31m#cellule à exécuter pour vider la base de donnée\u001b[0m\u001b[0;34m\u001b[0m\u001b[0;34m\u001b[0m\u001b[0;34m\u001b[0m\u001b[0m\n\u001b[0;32m----> 2\u001b[0;31m \u001b[0mcon\u001b[0m\u001b[0;34m.\u001b[0m\u001b[0mexecute\u001b[0m\u001b[0;34m(\u001b[0m\u001b[0;34m\"delete from player\"\u001b[0m\u001b[0;34m)\u001b[0m\u001b[0;34m;\u001b[0m\u001b[0;34m\u001b[0m\u001b[0;34m\u001b[0m\u001b[0m\n\u001b[0m\u001b[1;32m      3\u001b[0m \u001b[0mcon\u001b[0m\u001b[0;34m.\u001b[0m\u001b[0mexecute\u001b[0m\u001b[0;34m(\u001b[0m\u001b[0;34m\"delete from sqlite_sequence where name='player'\"\u001b[0m\u001b[0;34m)\u001b[0m\u001b[0;34m;\u001b[0m\u001b[0;34m\u001b[0m\u001b[0;34m\u001b[0m\u001b[0m\n\u001b[1;32m      4\u001b[0m \u001b[0;32mfor\u001b[0m \u001b[0mrow\u001b[0m \u001b[0;32min\u001b[0m \u001b[0mcon\u001b[0m\u001b[0;34m.\u001b[0m\u001b[0mexecute\u001b[0m\u001b[0;34m(\u001b[0m\u001b[0;34m\"select * from player\"\u001b[0m\u001b[0;34m)\u001b[0m\u001b[0;34m:\u001b[0m\u001b[0;34m\u001b[0m\u001b[0;34m\u001b[0m\u001b[0m\n\u001b[1;32m      5\u001b[0m     \u001b[0mprint\u001b[0m\u001b[0;34m(\u001b[0m\u001b[0mrow\u001b[0m\u001b[0;34m)\u001b[0m\u001b[0;34m\u001b[0m\u001b[0;34m\u001b[0m\u001b[0m\n",
      "\u001b[0;31mNameError\u001b[0m: name 'con' is not defined"
     ]
    }
   ],
   "source": [
    "#cellule à exécuter pour vider la base de donnée\n",
    "con.execute(\"delete from player\");\n",
    "con.execute(\"delete from sqlite_sequence where name='player'\");\n",
    "for row in con.execute(\"select * from player\"):\n",
    "    print(row)\n",
    "    \n",
    "con.execute(\"delete from match\");\n",
    "con.execute(\"delete from sqlite_sequence where name='match'\");\n",
    "for row in con.execute(\"select * from match\"):\n",
    "    print(row)\n",
    "    \n",
    "con.execute(\"delete from tournois\");\n",
    "con.execute(\"delete from sqlite_sequence where name='tournois'\");\n",
    "for row in con.execute(\"select * from tournois\"):\n",
    "    print(row)"
   ]
  },
  {
   "cell_type": "code",
   "execution_count": 10,
   "id": "7ed24ae2",
   "metadata": {},
   "outputs": [],
   "source": [
    "#ce qui pose problème \n",
    "#29018\n",
    "#30001\n",
    "#28816\n",
    "#split les elo\n",
    "#28613\n",
    "#28411 les joueurs ne se mettent pas dans la table ni les match\n",
    "#27918\n",
    "#18911 en grille américaine est bizarre c'est bon\n",
    "#pouvoir mettre la date qu'on veut\n",
    "#problème car pas trop de chronologie : il faut tester à chaque fois si la date est bonne"
   ]
  },
  {
   "cell_type": "code",
   "execution_count": 11,
   "id": "68cdd2c6",
   "metadata": {},
   "outputs": [
    {
     "name": "stdout",
     "output_type": "stream",
     "text": [
      "Enter your SQL command to execute\n",
      "Enter a blank line to exit\n",
      " \n"
     ]
    },
    {
     "ename": "NameError",
     "evalue": "name 'sqlite3' is not defined",
     "output_type": "error",
     "traceback": [
      "\u001b[0;31m---------------------------------------------------------------------------\u001b[0m",
      "\u001b[0;31mNameError\u001b[0m                                 Traceback (most recent call last)",
      "\u001b[0;32m/var/folders/k3/m4kj0cc96tl3f7qn_8q_wvpc0000gn/T/ipykernel_24811/4130178057.py\u001b[0m in \u001b[0;36m<module>\u001b[0;34m\u001b[0m\n\u001b[1;32m     11\u001b[0m         \u001b[0;32mbreak\u001b[0m\u001b[0;34m\u001b[0m\u001b[0;34m\u001b[0m\u001b[0m\n\u001b[1;32m     12\u001b[0m     \u001b[0mbuffer\u001b[0m \u001b[0;34m+=\u001b[0m \u001b[0mline\u001b[0m\u001b[0;34m\u001b[0m\u001b[0;34m\u001b[0m\u001b[0m\n\u001b[0;32m---> 13\u001b[0;31m     \u001b[0;32mif\u001b[0m \u001b[0msqlite3\u001b[0m\u001b[0;34m.\u001b[0m\u001b[0mcomplete_statement\u001b[0m\u001b[0;34m(\u001b[0m\u001b[0mbuffer\u001b[0m\u001b[0;34m)\u001b[0m\u001b[0;34m:\u001b[0m\u001b[0;34m\u001b[0m\u001b[0;34m\u001b[0m\u001b[0m\n\u001b[0m\u001b[1;32m     14\u001b[0m         \u001b[0;32mtry\u001b[0m\u001b[0;34m:\u001b[0m\u001b[0;34m\u001b[0m\u001b[0;34m\u001b[0m\u001b[0m\n\u001b[1;32m     15\u001b[0m             \u001b[0mbuffer\u001b[0m \u001b[0;34m=\u001b[0m \u001b[0mbuffer\u001b[0m\u001b[0;34m.\u001b[0m\u001b[0mstrip\u001b[0m\u001b[0;34m(\u001b[0m\u001b[0;34m)\u001b[0m\u001b[0;34m\u001b[0m\u001b[0;34m\u001b[0m\u001b[0m\n",
      "\u001b[0;31mNameError\u001b[0m: name 'sqlite3' is not defined"
     ]
    }
   ],
   "source": [
    "#Commandes SQL\n",
    "\n",
    "buffer = \"\"\n",
    "\n",
    "print(\"Enter your SQL command to execute\")\n",
    "print(\"Enter a blank line to exit\")\n",
    "\n",
    "while True:\n",
    "    line = input()\n",
    "    if line ==\"\":\n",
    "        break\n",
    "    buffer += line\n",
    "    if sqlite3.complete_statement(buffer):\n",
    "        try:\n",
    "            buffer = buffer.strip()\n",
    "            con.execute(buffer)\n",
    "            for row in con.execute(buffer):\n",
    "                print(row)\n",
    "            \n",
    "            if buffer.lstrip().upper().startswitch(\"SELECT\"):\n",
    "                print(cur.fetchall())\n",
    "        except sqlite.Error as e :\n",
    "            print(\"An error occured:\", e.args[0] )\n",
    "        buffer = \"\"\n"
   ]
  },
  {
   "cell_type": "code",
   "execution_count": null,
   "id": "4915483a",
   "metadata": {},
   "outputs": [],
   "source": []
  }
 ],
 "metadata": {
  "kernelspec": {
   "display_name": "Python 3 (ipykernel)",
   "language": "python",
   "name": "python3"
  },
  "language_info": {
   "codemirror_mode": {
    "name": "ipython",
    "version": 3
   },
   "file_extension": ".py",
   "mimetype": "text/x-python",
   "name": "python",
   "nbconvert_exporter": "python",
   "pygments_lexer": "ipython3",
   "version": "3.9.5"
  }
 },
 "nbformat": 4,
 "nbformat_minor": 5
}
